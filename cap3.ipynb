{
 "cells": [
  {
   "cell_type": "code",
   "id": "initial_id",
   "metadata": {
    "collapsed": true,
    "ExecuteTime": {
     "end_time": "2025-03-21T23:07:22.590410Z",
     "start_time": "2025-03-21T23:07:17.456129Z"
    }
   },
   "source": [
    "!pip install bertviz\n",
    "!pip install transformers\n",
    "!pip install ipython\n"
   ],
   "outputs": [
    {
     "name": "stdout",
     "output_type": "stream",
     "text": [
      "Requirement already satisfied: bertviz in c:\\users\\alenu\\miniconda3\\lib\\site-packages (1.4.0)\n",
      "Requirement already satisfied: transformers>=2.0 in c:\\users\\alenu\\miniconda3\\lib\\site-packages (from bertviz) (4.50.0)\n",
      "Requirement already satisfied: torch>=1.0 in c:\\users\\alenu\\miniconda3\\lib\\site-packages (from bertviz) (2.6.0)\n",
      "Requirement already satisfied: tqdm in c:\\users\\alenu\\miniconda3\\lib\\site-packages (from bertviz) (4.66.4)\n",
      "Requirement already satisfied: boto3 in c:\\users\\alenu\\miniconda3\\lib\\site-packages (from bertviz) (1.37.18)\n",
      "Requirement already satisfied: requests in c:\\users\\alenu\\miniconda3\\lib\\site-packages (from bertviz) (2.32.3)\n",
      "Requirement already satisfied: regex in c:\\users\\alenu\\miniconda3\\lib\\site-packages (from bertviz) (2024.11.6)\n",
      "Requirement already satisfied: sentencepiece in c:\\users\\alenu\\miniconda3\\lib\\site-packages (from bertviz) (0.2.0)\n",
      "Requirement already satisfied: filelock in c:\\users\\alenu\\miniconda3\\lib\\site-packages (from torch>=1.0->bertviz) (3.18.0)\n",
      "Requirement already satisfied: typing-extensions>=4.10.0 in c:\\users\\alenu\\miniconda3\\lib\\site-packages (from torch>=1.0->bertviz) (4.12.2)\n",
      "Requirement already satisfied: networkx in c:\\users\\alenu\\miniconda3\\lib\\site-packages (from torch>=1.0->bertviz) (3.4.2)\n",
      "Requirement already satisfied: jinja2 in c:\\users\\alenu\\miniconda3\\lib\\site-packages (from torch>=1.0->bertviz) (3.1.6)\n",
      "Requirement already satisfied: fsspec in c:\\users\\alenu\\miniconda3\\lib\\site-packages (from torch>=1.0->bertviz) (2024.12.0)\n",
      "Requirement already satisfied: setuptools in c:\\users\\alenu\\miniconda3\\lib\\site-packages (from torch>=1.0->bertviz) (72.1.0)\n",
      "Requirement already satisfied: sympy==1.13.1 in c:\\users\\alenu\\miniconda3\\lib\\site-packages (from torch>=1.0->bertviz) (1.13.1)\n",
      "Requirement already satisfied: mpmath<1.4,>=1.1.0 in c:\\users\\alenu\\miniconda3\\lib\\site-packages (from sympy==1.13.1->torch>=1.0->bertviz) (1.3.0)\n",
      "Requirement already satisfied: huggingface-hub<1.0,>=0.26.0 in c:\\users\\alenu\\miniconda3\\lib\\site-packages (from transformers>=2.0->bertviz) (0.29.3)\n",
      "Requirement already satisfied: numpy>=1.17 in c:\\users\\alenu\\miniconda3\\lib\\site-packages (from transformers>=2.0->bertviz) (2.1.3)\n",
      "Requirement already satisfied: packaging>=20.0 in c:\\users\\alenu\\miniconda3\\lib\\site-packages (from transformers>=2.0->bertviz) (24.1)\n",
      "Requirement already satisfied: pyyaml>=5.1 in c:\\users\\alenu\\miniconda3\\lib\\site-packages (from transformers>=2.0->bertviz) (6.0.2)\n",
      "Requirement already satisfied: tokenizers<0.22,>=0.21 in c:\\users\\alenu\\miniconda3\\lib\\site-packages (from transformers>=2.0->bertviz) (0.21.1)\n",
      "Requirement already satisfied: safetensors>=0.4.3 in c:\\users\\alenu\\miniconda3\\lib\\site-packages (from transformers>=2.0->bertviz) (0.5.3)\n",
      "Requirement already satisfied: colorama in c:\\users\\alenu\\miniconda3\\lib\\site-packages (from tqdm->bertviz) (0.4.6)\n",
      "Requirement already satisfied: botocore<1.38.0,>=1.37.18 in c:\\users\\alenu\\miniconda3\\lib\\site-packages (from boto3->bertviz) (1.37.18)\n",
      "Requirement already satisfied: jmespath<2.0.0,>=0.7.1 in c:\\users\\alenu\\miniconda3\\lib\\site-packages (from boto3->bertviz) (1.0.1)\n",
      "Requirement already satisfied: s3transfer<0.12.0,>=0.11.0 in c:\\users\\alenu\\miniconda3\\lib\\site-packages (from boto3->bertviz) (0.11.4)\n",
      "Requirement already satisfied: charset-normalizer<4,>=2 in c:\\users\\alenu\\miniconda3\\lib\\site-packages (from requests->bertviz) (3.3.2)\n",
      "Requirement already satisfied: idna<4,>=2.5 in c:\\users\\alenu\\miniconda3\\lib\\site-packages (from requests->bertviz) (3.7)\n",
      "Requirement already satisfied: urllib3<3,>=1.21.1 in c:\\users\\alenu\\miniconda3\\lib\\site-packages (from requests->bertviz) (2.2.2)\n",
      "Requirement already satisfied: certifi>=2017.4.17 in c:\\users\\alenu\\miniconda3\\lib\\site-packages (from requests->bertviz) (2025.1.31)\n",
      "Requirement already satisfied: python-dateutil<3.0.0,>=2.1 in c:\\users\\alenu\\miniconda3\\lib\\site-packages (from botocore<1.38.0,>=1.37.18->boto3->bertviz) (2.9.0.post0)\n",
      "Requirement already satisfied: MarkupSafe>=2.0 in c:\\users\\alenu\\miniconda3\\lib\\site-packages (from jinja2->torch>=1.0->bertviz) (3.0.2)\n",
      "Requirement already satisfied: six>=1.5 in c:\\users\\alenu\\miniconda3\\lib\\site-packages (from python-dateutil<3.0.0,>=2.1->botocore<1.38.0,>=1.37.18->boto3->bertviz) (1.17.0)\n",
      "Requirement already satisfied: transformers in c:\\users\\alenu\\miniconda3\\lib\\site-packages (4.50.0)\n",
      "Requirement already satisfied: filelock in c:\\users\\alenu\\miniconda3\\lib\\site-packages (from transformers) (3.18.0)\n",
      "Requirement already satisfied: huggingface-hub<1.0,>=0.26.0 in c:\\users\\alenu\\miniconda3\\lib\\site-packages (from transformers) (0.29.3)\n",
      "Requirement already satisfied: numpy>=1.17 in c:\\users\\alenu\\miniconda3\\lib\\site-packages (from transformers) (2.1.3)\n",
      "Requirement already satisfied: packaging>=20.0 in c:\\users\\alenu\\miniconda3\\lib\\site-packages (from transformers) (24.1)\n",
      "Requirement already satisfied: pyyaml>=5.1 in c:\\users\\alenu\\miniconda3\\lib\\site-packages (from transformers) (6.0.2)\n",
      "Requirement already satisfied: regex!=2019.12.17 in c:\\users\\alenu\\miniconda3\\lib\\site-packages (from transformers) (2024.11.6)\n",
      "Requirement already satisfied: requests in c:\\users\\alenu\\miniconda3\\lib\\site-packages (from transformers) (2.32.3)\n",
      "Requirement already satisfied: tokenizers<0.22,>=0.21 in c:\\users\\alenu\\miniconda3\\lib\\site-packages (from transformers) (0.21.1)\n",
      "Requirement already satisfied: safetensors>=0.4.3 in c:\\users\\alenu\\miniconda3\\lib\\site-packages (from transformers) (0.5.3)\n",
      "Requirement already satisfied: tqdm>=4.27 in c:\\users\\alenu\\miniconda3\\lib\\site-packages (from transformers) (4.66.4)\n",
      "Requirement already satisfied: fsspec>=2023.5.0 in c:\\users\\alenu\\miniconda3\\lib\\site-packages (from huggingface-hub<1.0,>=0.26.0->transformers) (2024.12.0)\n",
      "Requirement already satisfied: typing-extensions>=3.7.4.3 in c:\\users\\alenu\\miniconda3\\lib\\site-packages (from huggingface-hub<1.0,>=0.26.0->transformers) (4.12.2)\n",
      "Requirement already satisfied: colorama in c:\\users\\alenu\\miniconda3\\lib\\site-packages (from tqdm>=4.27->transformers) (0.4.6)\n",
      "Requirement already satisfied: charset-normalizer<4,>=2 in c:\\users\\alenu\\miniconda3\\lib\\site-packages (from requests->transformers) (3.3.2)\n",
      "Requirement already satisfied: idna<4,>=2.5 in c:\\users\\alenu\\miniconda3\\lib\\site-packages (from requests->transformers) (3.7)\n",
      "Requirement already satisfied: urllib3<3,>=1.21.1 in c:\\users\\alenu\\miniconda3\\lib\\site-packages (from requests->transformers) (2.2.2)\n",
      "Requirement already satisfied: certifi>=2017.4.17 in c:\\users\\alenu\\miniconda3\\lib\\site-packages (from requests->transformers) (2025.1.31)\n",
      "Requirement already satisfied: ipython in c:\\users\\alenu\\miniconda3\\lib\\site-packages (9.0.2)\n",
      "Requirement already satisfied: colorama in c:\\users\\alenu\\miniconda3\\lib\\site-packages (from ipython) (0.4.6)\n",
      "Requirement already satisfied: decorator in c:\\users\\alenu\\miniconda3\\lib\\site-packages (from ipython) (5.2.1)\n",
      "Requirement already satisfied: ipython-pygments-lexers in c:\\users\\alenu\\miniconda3\\lib\\site-packages (from ipython) (1.1.1)\n",
      "Requirement already satisfied: jedi>=0.16 in c:\\users\\alenu\\miniconda3\\lib\\site-packages (from ipython) (0.19.2)\n",
      "Requirement already satisfied: matplotlib-inline in c:\\users\\alenu\\miniconda3\\lib\\site-packages (from ipython) (0.1.7)\n",
      "Requirement already satisfied: prompt_toolkit<3.1.0,>=3.0.41 in c:\\users\\alenu\\miniconda3\\lib\\site-packages (from ipython) (3.0.50)\n",
      "Requirement already satisfied: pygments>=2.4.0 in c:\\users\\alenu\\miniconda3\\lib\\site-packages (from ipython) (2.19.1)\n",
      "Requirement already satisfied: stack_data in c:\\users\\alenu\\miniconda3\\lib\\site-packages (from ipython) (0.6.3)\n",
      "Requirement already satisfied: traitlets>=5.13.0 in c:\\users\\alenu\\miniconda3\\lib\\site-packages (from ipython) (5.14.3)\n",
      "Requirement already satisfied: parso<0.9.0,>=0.8.4 in c:\\users\\alenu\\miniconda3\\lib\\site-packages (from jedi>=0.16->ipython) (0.8.4)\n",
      "Requirement already satisfied: wcwidth in c:\\users\\alenu\\miniconda3\\lib\\site-packages (from prompt_toolkit<3.1.0,>=3.0.41->ipython) (0.2.13)\n",
      "Requirement already satisfied: executing>=1.2.0 in c:\\users\\alenu\\miniconda3\\lib\\site-packages (from stack_data->ipython) (2.2.0)\n",
      "Requirement already satisfied: asttokens>=2.1.0 in c:\\users\\alenu\\miniconda3\\lib\\site-packages (from stack_data->ipython) (3.0.0)\n",
      "Requirement already satisfied: pure-eval in c:\\users\\alenu\\miniconda3\\lib\\site-packages (from stack_data->ipython) (0.2.3)\n"
     ]
    }
   ],
   "execution_count": 1
  },
  {
   "metadata": {
    "ExecuteTime": {
     "end_time": "2025-03-21T23:07:37.985700Z",
     "start_time": "2025-03-21T23:07:27.849286Z"
    }
   },
   "cell_type": "code",
   "source": [
    "from transformers import AutoTokenizer\n",
    "from bertviz.neuron_view import show\n"
   ],
   "id": "818a21dea502ae1e",
   "outputs": [
    {
     "ename": "ImportError",
     "evalue": "cannot import name 'display' from 'IPython.core.display' (C:\\Users\\alenu\\miniconda3\\Lib\\site-packages\\IPython\\core\\display.py)",
     "output_type": "error",
     "traceback": [
      "\u001B[31m---------------------------------------------------------------------------\u001B[39m",
      "\u001B[31mImportError\u001B[39m                               Traceback (most recent call last)",
      "\u001B[36mCell\u001B[39m\u001B[36m \u001B[39m\u001B[32mIn[2]\u001B[39m\u001B[32m, line 2\u001B[39m\n\u001B[32m      1\u001B[39m \u001B[38;5;28;01mfrom\u001B[39;00m\u001B[38;5;250m \u001B[39m\u001B[34;01mtransformers\u001B[39;00m\u001B[38;5;250m \u001B[39m\u001B[38;5;28;01mimport\u001B[39;00m AutoTokenizer\n\u001B[32m----> \u001B[39m\u001B[32m2\u001B[39m \u001B[38;5;28;01mfrom\u001B[39;00m\u001B[38;5;250m \u001B[39m\u001B[34;01mbertviz\u001B[39;00m\u001B[34;01m.\u001B[39;00m\u001B[34;01mneuron_view\u001B[39;00m\u001B[38;5;250m \u001B[39m\u001B[38;5;28;01mimport\u001B[39;00m show\n",
      "\u001B[36mFile \u001B[39m\u001B[32m~\\miniconda3\\Lib\\site-packages\\bertviz\\__init__.py:1\u001B[39m\n\u001B[32m----> \u001B[39m\u001B[32m1\u001B[39m \u001B[38;5;28;01mfrom\u001B[39;00m\u001B[38;5;250m \u001B[39m\u001B[34;01m.\u001B[39;00m\u001B[34;01mhead_view\u001B[39;00m\u001B[38;5;250m \u001B[39m\u001B[38;5;28;01mimport\u001B[39;00m head_view\n\u001B[32m      2\u001B[39m \u001B[38;5;28;01mfrom\u001B[39;00m\u001B[38;5;250m \u001B[39m\u001B[34;01m.\u001B[39;00m\u001B[34;01mmodel_view\u001B[39;00m\u001B[38;5;250m \u001B[39m\u001B[38;5;28;01mimport\u001B[39;00m model_view\n",
      "\u001B[36mFile \u001B[39m\u001B[32m~\\miniconda3\\Lib\\site-packages\\bertviz\\head_view.py:5\u001B[39m\n\u001B[32m      2\u001B[39m \u001B[38;5;28;01mimport\u001B[39;00m\u001B[38;5;250m \u001B[39m\u001B[34;01mos\u001B[39;00m\n\u001B[32m      3\u001B[39m \u001B[38;5;28;01mimport\u001B[39;00m\u001B[38;5;250m \u001B[39m\u001B[34;01muuid\u001B[39;00m\n\u001B[32m----> \u001B[39m\u001B[32m5\u001B[39m \u001B[38;5;28;01mfrom\u001B[39;00m\u001B[38;5;250m \u001B[39m\u001B[34;01mIPython\u001B[39;00m\u001B[34;01m.\u001B[39;00m\u001B[34;01mcore\u001B[39;00m\u001B[34;01m.\u001B[39;00m\u001B[34;01mdisplay\u001B[39;00m\u001B[38;5;250m \u001B[39m\u001B[38;5;28;01mimport\u001B[39;00m display, HTML, Javascript\n\u001B[32m      7\u001B[39m \u001B[38;5;28;01mfrom\u001B[39;00m\u001B[38;5;250m \u001B[39m\u001B[34;01m.\u001B[39;00m\u001B[34;01mutil\u001B[39;00m\u001B[38;5;250m \u001B[39m\u001B[38;5;28;01mimport\u001B[39;00m format_special_chars, format_attention, num_layers\n\u001B[32m     10\u001B[39m \u001B[38;5;28;01mdef\u001B[39;00m\u001B[38;5;250m \u001B[39m\u001B[34mhead_view\u001B[39m(\n\u001B[32m     11\u001B[39m         attention=\u001B[38;5;28;01mNone\u001B[39;00m,\n\u001B[32m     12\u001B[39m         tokens=\u001B[38;5;28;01mNone\u001B[39;00m,\n\u001B[32m   (...)\u001B[39m\u001B[32m     23\u001B[39m         html_action=\u001B[33m'\u001B[39m\u001B[33mview\u001B[39m\u001B[33m'\u001B[39m\n\u001B[32m     24\u001B[39m ):\n",
      "\u001B[31mImportError\u001B[39m: cannot import name 'display' from 'IPython.core.display' (C:\\Users\\alenu\\miniconda3\\Lib\\site-packages\\IPython\\core\\display.py)"
     ]
    }
   ],
   "execution_count": 2
  },
  {
   "metadata": {},
   "cell_type": "code",
   "outputs": [],
   "execution_count": null,
   "source": "",
   "id": "935a26b5d0bad870"
  }
 ],
 "metadata": {
  "kernelspec": {
   "display_name": "Python 3",
   "language": "python",
   "name": "python3"
  },
  "language_info": {
   "codemirror_mode": {
    "name": "ipython",
    "version": 2
   },
   "file_extension": ".py",
   "mimetype": "text/x-python",
   "name": "python",
   "nbconvert_exporter": "python",
   "pygments_lexer": "ipython2",
   "version": "2.7.6"
  }
 },
 "nbformat": 4,
 "nbformat_minor": 5
}
